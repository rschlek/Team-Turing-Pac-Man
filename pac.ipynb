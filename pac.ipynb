{
 "cells": [
  {
   "cell_type": "code",
   "execution_count": null,
   "metadata": {},
   "outputs": [],
   "source": [
    "import sys\n",
    "import copy"
   ]
  },
  {
   "cell_type": "code",
   "execution_count": null,
   "metadata": {},
   "outputs": [],
   "source": [
    "def err(*args):\n",
    "    sys.stderr.write(', '.join([str(arg) for arg in args]) + \"\\n\")"
   ]
  },
  {
   "cell_type": "code",
   "execution_count": 2,
   "metadata": {},
   "outputs": [],
   "source": [
    "class state:\n",
    "    def __init__(self, rows, width, height, board=None):\n",
    "        if board is not None:\n",
    "            self.board=board\n",
    "        else:\n",
    "        \n",
    "            self.board = []\n",
    "            self.height = height\n",
    "            self.width = width\n",
    "\n",
    "            for i in range(height):\n",
    "                self.board.append([])\n",
    "                for j in range(width):\n",
    "                    self.board[i].append(rows[i][j])\n",
    "\n",
    "    def update_board(self,symbol,height,width):\n",
    "        self.board[height][width] = symbol\n",
    "\n",
    "    def copy_board(self):\n",
    "        return copy.deepcopy(self.board)"
   ]
  }
 ],
 "metadata": {
  "interpreter": {
   "hash": "98808177eff5c3d00cd3f8ba078e7de363e144613083868b262a65269a3681a0"
  },
  "kernelspec": {
   "display_name": "Python 3.9.7 64-bit",
   "language": "python",
   "name": "python3"
  },
  "language_info": {
   "codemirror_mode": {
    "name": "ipython",
    "version": 3
   },
   "file_extension": ".py",
   "mimetype": "text/x-python",
   "name": "python",
   "nbconvert_exporter": "python",
   "pygments_lexer": "ipython3",
   "version": "3.9.7"
  },
  "orig_nbformat": 4
 },
 "nbformat": 4,
 "nbformat_minor": 2
}
